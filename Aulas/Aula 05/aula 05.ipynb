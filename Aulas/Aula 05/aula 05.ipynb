{
  "metadata": {
    "language_info": {
      "codemirror_mode": {
        "name": "python",
        "version": 3
      },
      "file_extension": ".py",
      "mimetype": "text/x-python",
      "name": "python",
      "nbconvert_exporter": "python",
      "pygments_lexer": "ipython3",
      "version": "3.8"
    },
    "kernelspec": {
      "name": "python",
      "display_name": "Python (Pyodide)",
      "language": "python"
    }
  },
  "nbformat_minor": 4,
  "nbformat": 4,
  "cells": [
    {
      "cell_type": "markdown",
      "source": "01 - Crie uma lista com 4 nomes, 4 endereços e 4 telefones, mostre a lista de forma formatada",
      "metadata": {}
    },
    {
      "cell_type": "code",
      "source": "nome=[\n    \"Mateus\",\n    \"Ana Luiza\",\n    \"Carlos\",\n    \"Rick\"\n    ]\nidade=[\n    17,20,50,52\n    ]\nfone=[\n    \"99994-7030\",\n    \"96492-6465\",\n    \"98093-2935\",\n    \"93956-6534\"\n    ]\nx=0\nprint(\"{:<12}{:<7}{:<0}\".format(\"nome\",\"idade\",\"telefone\"))\nprint(\"------------------------------\")\nwhile(x<=3):\n    print(\"{:<12}{:<7}{:<0}\".format(nome[x],idade[x],fone[x]))\n    x+=1\n",
      "metadata": {
        "trusted": true
      },
      "execution_count": 10,
      "outputs": [
        {
          "name": "stdout",
          "text": "nome        idade  telefone\n------------------------------\nMateus      17     99994-7030\nAna Luiza   20     96492-6465\nCarlos      50     98093-2935\nRick        52     93956-6534\n",
          "output_type": "stream"
        }
      ]
    },
    {
      "cell_type": "markdown",
      "source": "02 - Crie um programa que mostre 3 endereços, 3 números, 3 bairros, e 3 cidades.",
      "metadata": {}
    },
    {
      "cell_type": "code",
      "source": "endereco=[\n    \"Mateus Barbosa\",\n    \"Vesuvio\",\n    \"Rui Barbosa\"\n    ]\nnumero=[\n    1753,2673,5043\n    ]\nbairro=[\n    \"Sao joao\",\n    \"Sao Gabriel\",\n    \"Sao Judas\"\n    \n    ]\n\ncidade=[\n    \"Salto\",\n    \"Itu\",\n    \"Indaiatuba\"\n]\nx=0\nprint(\"|{:<16}|{:<10}|{:<14}|{:<0}\".format(\"endereco\",\"numero\",\"bairro\",\"cidade\"))\nprint(\"---------------------------------------------------\")\nwhile(x<=2):\n    print(\"|{:<16}|{:<10}|{:<14}|{:<0}\".format(endereco[x],numero[x],bairro[x],cidade[x]))\n    x+=1",
      "metadata": {
        "trusted": true
      },
      "execution_count": 31,
      "outputs": [
        {
          "name": "stdout",
          "text": "|endereco        |numero    |bairro        |cidade\n---------------------------------------------------\n|Mateus Barbosa  |1753      |Sao joao      |Salto\n|Vesuvio         |2673      |Sao Gabriel   |Itu\n|Rui Barbosa     |5043      |Sao Judas     |Indaiatuba\n",
          "output_type": "stream"
        }
      ]
    },
    {
      "cell_type": "code",
      "source": "",
      "metadata": {},
      "execution_count": null,
      "outputs": []
    },
    {
      "cell_type": "code",
      "source": "",
      "metadata": {},
      "execution_count": null,
      "outputs": []
    }
  ]
}