{
  "metadata": {
    "kernelspec": {
      "name": "python",
      "display_name": "Python (Pyodide)",
      "language": "python"
    },
    "language_info": {
      "codemirror_mode": {
        "name": "python",
        "version": 3
      },
      "file_extension": ".py",
      "mimetype": "text/x-python",
      "name": "python",
      "nbconvert_exporter": "python",
      "pygments_lexer": "ipython3",
      "version": "3.8"
    }
  },
  "nbformat_minor": 5,
  "nbformat": 4,
  "cells": [
    {
      "cell_type": "markdown",
      "source": "01 - Crie um programa que receba dois valores e retorne a soma:",
      "metadata": {},
      "id": "93659690-4ae6-4d50-96bd-c247deed2de9"
    },
    {
      "cell_type": "code",
      "source": "x = 2\ny = 2\nres = (x+y)\n\nprint(res)",
      "metadata": {
        "trusted": true
      },
      "execution_count": 2,
      "outputs": [
        {
          "name": "stdout",
          "text": "4\n",
          "output_type": "stream"
        }
      ],
      "id": "4820151d-cd27-46e8-87c1-994a4aa8a9a1"
    },
    {
      "cell_type": "markdown",
      "source": "02 - Crie um porgrama que receba dois valores e retorne a multiplicação",
      "metadata": {},
      "id": "be9894ed-797d-4eba-8263-ce734f9b39de"
    },
    {
      "cell_type": "code",
      "source": "x=9\ny=12\nres=(x*y)\n\nprint(res)",
      "metadata": {
        "trusted": true
      },
      "execution_count": 3,
      "outputs": [
        {
          "name": "stdout",
          "text": "108\n",
          "output_type": "stream"
        }
      ],
      "id": "610224de-ad63-48eb-8d5b-a2d14c08e957"
    },
    {
      "cell_type": "code",
      "source": "",
      "metadata": {},
      "execution_count": null,
      "outputs": [],
      "id": "7e8d467f-d039-47cc-8806-1df3f2c4289b"
    }
  ]
}