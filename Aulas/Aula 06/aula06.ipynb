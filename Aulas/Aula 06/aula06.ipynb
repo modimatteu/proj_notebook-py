{
  "metadata": {
    "language_info": {
      "codemirror_mode": {
        "name": "python",
        "version": 3
      },
      "file_extension": ".py",
      "mimetype": "text/x-python",
      "name": "python",
      "nbconvert_exporter": "python",
      "pygments_lexer": "ipython3",
      "version": "3.8"
    },
    "kernelspec": {
      "name": "python",
      "display_name": "Python (Pyodide)",
      "language": "python"
    }
  },
  "nbformat_minor": 4,
  "nbformat": 4,
  "cells": [
    {
      "cell_type": "markdown",
      "source": "01- Crie um programa que crie um objeto e um construtor com nome pessoa. Adicione em uma lista com quatro pessoas:",
      "metadata": {}
    },
    {
      "cell_type": "code",
      "source": "class pessoa:\n    def __init__(self, nome, idade, cargo, salario):\n        self.nome = nome\n        self.idade = idade\n        self.cargo = cargo\n        self.salario = salario \n        \ncadastro = []\nprint(\"--------------------------------------------------------\")\ncadastro.append(pessoa(\"Gustavo\",50,\"Diretor\",\"R$ 10.000,00\"))\ncadastro.append(pessoa(\"Carlos\",80,\"Auxiliar\",\"R$ 1.200,00\"))\ncadastro.append(pessoa(\"Samuel\",40,\"Assistente\",\"R$ 1.300,00\"))\ncadastro.append(pessoa(\"Enzo\",18, \"Estagiario\",\"R$ 600,00\"))\ncadastro.append(pessoa(\"Manuela\",18,\"Aux.Administrativo\",\"R$ 1.300,00\"))\n\ncadastro.sort(key=lambda x: x.nome)\n\nfor v in cadastro:\n    print(\"|{:<10}|{:<4}|{:<20}|{:<0}\".format(v.nome,v.idade,v.cargo,v.salario))",
      "metadata": {
        "trusted": true
      },
      "execution_count": 9,
      "outputs": [
        {
          "name": "stdout",
          "text": "--------------------------------------------------------\n|Carlos    |80  |Auxiliar            |R$ 1.200,00\n|Enzo      |18  |Estagiario          |R$ 600,00\n|Gustavo   |50  |Diretor             |R$ 10.000,00\n|Manuela   |18  |Aux.Administrativo  |R$ 1.300,00\n|Samuel    |40  |Assistente          |R$ 1.300,00\n",
          "output_type": "stream"
        }
      ]
    },
    {
      "cell_type": "code",
      "source": "",
      "metadata": {},
      "execution_count": null,
      "outputs": []
    },
    {
      "cell_type": "markdown",
      "source": "02 - Crie um programa com uma classe carro onde possua, modelo, marca, ano, placa. Adicione tres carros:",
      "metadata": {}
    },
    {
      "cell_type": "code",
      "source": "class carro:\n    def __init__(self,modelo,marca,ano,placa):\n        self.modelo = nome\n        self.modelo = modelo\n        self.ano = ano\n        self.placa = placa\n        \ncadastro = []\n\ncadastro.append(carro(\"HB20\",\"Hyundai\",2010,\"fhd-3299\"))\ncadastro.append(carro(\"Spider\",\"Ferrari\", 2016,\"fwr-3543\"))\ncadastro.append(carro(\"Toro\", \"Fiat\",2021,\"aso-34523\"))\n\ncadastro.sort(key=lambda x: modelo)\n\nfor v in cadastro:\n    print(\"|{:<10}|{:<4}|{:<20}|{:<0}\".format(v.modelo,v.marca,v.ano,v.placa))\n    ",
      "metadata": {
        "trusted": true
      },
      "execution_count": 10,
      "outputs": [
        {
          "ename": "<class 'NameError'>",
          "evalue": "name 'nome' is not defined",
          "traceback": [
            "\u001b[0;31m---------------------------------------------------------------------------\u001b[0m",
            "\u001b[0;31mNameError\u001b[0m                                 Traceback (most recent call last)",
            "Cell \u001b[0;32mIn [10], line 10\u001b[0m\n\u001b[1;32m      6\u001b[0m         \u001b[38;5;28mself\u001b[39m\u001b[38;5;241m.\u001b[39mplaca \u001b[38;5;241m=\u001b[39m placa\n\u001b[1;32m      8\u001b[0m cadastro \u001b[38;5;241m=\u001b[39m []\n\u001b[0;32m---> 10\u001b[0m cadastro\u001b[38;5;241m.\u001b[39mappend(\u001b[43mcarro\u001b[49m\u001b[43m(\u001b[49m\u001b[38;5;124;43m\"\u001b[39;49m\u001b[38;5;124;43mHB20\u001b[39;49m\u001b[38;5;124;43m\"\u001b[39;49m\u001b[43m,\u001b[49m\u001b[38;5;124;43m\"\u001b[39;49m\u001b[38;5;124;43mHyundai\u001b[39;49m\u001b[38;5;124;43m\"\u001b[39;49m\u001b[43m,\u001b[49m\u001b[38;5;241;43m2010\u001b[39;49m\u001b[43m,\u001b[49m\u001b[38;5;124;43m\"\u001b[39;49m\u001b[38;5;124;43mfhd-3299\u001b[39;49m\u001b[38;5;124;43m\"\u001b[39;49m\u001b[43m)\u001b[49m)\n\u001b[1;32m     11\u001b[0m cadastro\u001b[38;5;241m.\u001b[39mappend(carro(\u001b[38;5;124m\"\u001b[39m\u001b[38;5;124mSpider\u001b[39m\u001b[38;5;124m\"\u001b[39m,\u001b[38;5;124m\"\u001b[39m\u001b[38;5;124mFerrari\u001b[39m\u001b[38;5;124m\"\u001b[39m, \u001b[38;5;241m2016\u001b[39m,\u001b[38;5;124m\"\u001b[39m\u001b[38;5;124mfwr-3543\u001b[39m\u001b[38;5;124m\"\u001b[39m))\n\u001b[1;32m     12\u001b[0m cadastro\u001b[38;5;241m.\u001b[39mappend(carro(\u001b[38;5;124m\"\u001b[39m\u001b[38;5;124mToro\u001b[39m\u001b[38;5;124m\"\u001b[39m, \u001b[38;5;124m\"\u001b[39m\u001b[38;5;124mFiat\u001b[39m\u001b[38;5;124m\"\u001b[39m,\u001b[38;5;241m2021\u001b[39m,\u001b[38;5;124m\"\u001b[39m\u001b[38;5;124maso-34523\u001b[39m\u001b[38;5;124m\"\u001b[39m))\n",
            "Cell \u001b[0;32mIn [10], line 3\u001b[0m, in \u001b[0;36mcarro.__init__\u001b[0;34m(self, modelo, marca, ano, placa)\u001b[0m\n\u001b[1;32m      2\u001b[0m \u001b[38;5;28;01mdef\u001b[39;00m \u001b[38;5;21m__init__\u001b[39m(\u001b[38;5;28mself\u001b[39m,modelo,marca,ano,placa):\n\u001b[0;32m----> 3\u001b[0m     \u001b[38;5;28mself\u001b[39m\u001b[38;5;241m.\u001b[39mmodelo \u001b[38;5;241m=\u001b[39m \u001b[43mnome\u001b[49m\n\u001b[1;32m      4\u001b[0m     \u001b[38;5;28mself\u001b[39m\u001b[38;5;241m.\u001b[39mmodelo \u001b[38;5;241m=\u001b[39m modelo\n\u001b[1;32m      5\u001b[0m     \u001b[38;5;28mself\u001b[39m\u001b[38;5;241m.\u001b[39mano \u001b[38;5;241m=\u001b[39m ano\n",
            "\u001b[0;31mNameError\u001b[0m: name 'nome' is not defined"
          ],
          "output_type": "error"
        }
      ]
    },
    {
      "cell_type": "code",
      "source": "",
      "metadata": {},
      "execution_count": null,
      "outputs": []
    }
  ]
}